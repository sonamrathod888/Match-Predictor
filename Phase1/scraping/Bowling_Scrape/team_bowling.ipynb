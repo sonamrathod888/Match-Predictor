{
 "cells": [
  {
   "cell_type": "code",
   "execution_count": 1,
   "metadata": {},
   "outputs": [
    {
     "name": "stderr",
     "output_type": "stream",
     "text": [
      "/home/gmkb/anaconda3/lib/python3.6/site-packages/bs4/__init__.py:181: UserWarning: No parser was explicitly specified, so I'm using the best available HTML parser for this system (\"lxml\"). This usually isn't a problem, but if you run this code on another system, or in a different virtual environment, it may use a different parser and behave differently.\n",
      "\n",
      "The code that caused this warning is on line 193 of the file /home/gmkb/anaconda3/lib/python3.6/runpy.py. To get rid of this warning, change code that looks like this:\n",
      "\n",
      " BeautifulSoup(YOUR_MARKUP})\n",
      "\n",
      "to this:\n",
      "\n",
      " BeautifulSoup(YOUR_MARKUP, \"lxml\")\n",
      "\n",
      "  markup_type=markup_type))\n"
     ]
    }
   ],
   "source": [
    "# scraping the data from the web\n",
    "import pandas as pd\n",
    "\n",
    "from urllib.request import urlopen\n",
    "\n",
    "from bs4 import BeautifulSoup\n",
    "page_list=[\n",
    "        \"http://stats.espncricinfo.com/ci/engine/records/averages/bowling.html?id=117;team=4343;type=trophy\",\n",
    "        \"http://stats.espncricinfo.com/ci/engine/records/averages/bowling.html?id=117;team=4347;type=trophy\",\n",
    "        \"http://stats.espncricinfo.com/ci/engine/records/averages/bowling.html?id=117;team=4344;type=trophy\",\n",
    "        \"http://stats.espncricinfo.com/ci/engine/records/averages/bowling.html?id=117;team=5845;type=trophy\",\n",
    "        \"http://stats.espncricinfo.com/ci/engine/records/averages/bowling.html?id=117;team=4342;type=trophy\",\n",
    "        \"http://stats.espncricinfo.com/ci/engine/records/averages/bowling.html?id=117;team=4788;type=trophy\",\n",
    "        \"http://stats.espncricinfo.com/ci/engine/records/averages/bowling.html?id=117;team=4341;type=trophy\",\n",
    "        \"http://stats.espncricinfo.com/ci/engine/records/averages/bowling.html?id=117;team=4346;type=trophy\",\n",
    "        \"http://stats.espncricinfo.com/ci/engine/records/averages/bowling.html?id=117;team=4787;type=trophy\",\n",
    "        \"http://stats.espncricinfo.com/ci/engine/records/averages/bowling.html?id=117;team=4345;type=trophy\",\n",
    "        \"http://stats.espncricinfo.com/ci/engine/records/averages/bowling.html?id=117;team=5843;type=trophy\",\n",
    "        \"http://stats.espncricinfo.com/ci/engine/records/averages/bowling.html?id=117;team=4340;type=trophy\",\n",
    "        \"http://stats.espncricinfo.com/ci/engine/records/averages/bowling.html?id=117;team=5143;type=trophy\"\n",
    "            ]\n",
    "names = [       \n",
    "    \"Chennai Super Kings\",\"Deccan Chargers\",\"Delhi Daredevils\",\"Gujarat Lions\",\"Kings XI Punjab\",\n",
    "    \"Kochi Tuskers Kerala\",\"Kolkata Knight Riders\",\"Mumbai Indians\",\"Pune Warriors\",\"Rajasthan Royals\",\n",
    "    \"Rising Pune Supergiants\",\"Royal Challengers Bangalore\",\"Sunrisers Hyderabad\"\n",
    "        ]\n",
    "ext = \".csv\"\n",
    "k=0\n",
    "for i in page_list:\n",
    "    page = urlopen(i)\n",
    "    soup = BeautifulSoup(page)\n",
    "    right_table=soup.find('table', class_='engineTable')\n",
    "    l = []\n",
    "    for tr in right_table.findAll(\"tr\"):\n",
    "        td = tr.find_all('td')\n",
    "        row = [tr.text for tr in td]\n",
    "        l.append(row)\n",
    "    df=pd.DataFrame(l)\n",
    "    df.to_csv(names[k]+ext,index=False)\n",
    "    k+=1"
   ]
  },
  {
   "cell_type": "code",
   "execution_count": 2,
   "metadata": {},
   "outputs": [],
   "source": [
    "#after manual cleaning, concatenating the files \n",
    "import pandas as pd\n",
    "from glob import glob\n",
    "filenames=glob(\"*.csv\")\n",
    "headers=[\"player_name\",\"matches_played\",\"innings_bowled\",\"overs_bowled\",\"maidens_earned\",\"runs_conceded\",\n",
    "         \"wickets_taken\",\"best_innings_bowling\",\"bowling_average\",\"economy_rate\",\"bowling_strike_rate\",\n",
    "         \"four_wkts_in_an_inns\",\"five_wkts_in_an_inns\",\"catches_taken\",\"stumpings_made\"]   \n",
    "\n",
    "dfs=[pd.read_csv(x,names=headers) for x in filenames]\n",
    "combined=pd.concat(dfs)\n",
    "combined.to_csv(\"all_teams_bowling.csv\",index=False)"
   ]
  },
  {
   "cell_type": "code",
   "execution_count": null,
   "metadata": {},
   "outputs": [],
   "source": []
  }
 ],
 "metadata": {
  "kernelspec": {
   "display_name": "Python 3",
   "language": "python",
   "name": "python3"
  },
  "language_info": {
   "codemirror_mode": {
    "name": "ipython",
    "version": 3
   },
   "file_extension": ".py",
   "mimetype": "text/x-python",
   "name": "python",
   "nbconvert_exporter": "python",
   "pygments_lexer": "ipython3",
   "version": "3.6.5"
  }
 },
 "nbformat": 4,
 "nbformat_minor": 2
}
